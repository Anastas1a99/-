{
 "cells": [
  {
   "cell_type": "code",
   "execution_count": 39,
   "id": "4711d354-fa0d-41d3-845f-829b24ab4435",
   "metadata": {},
   "outputs": [
    {
     "data": {
      "text/plain": [
       "['encoder.pkl']"
      ]
     },
     "execution_count": 39,
     "metadata": {},
     "output_type": "execute_result"
    }
   ],
   "source": [
    "import pandas as pd\n",
    "from sklearn.model_selection import train_test_split\n",
    "from sklearn.preprocessing import OneHotEncoder\n",
    "from sklearn.linear_model import LinearRegression\n",
    "from sklearn.tree import DecisionTreeRegressor\n",
    "from sklearn.ensemble import RandomForestRegressor\n",
    "from xgboost import XGBRegressor\n",
    "from sklearn.metrics import mean_squared_error, r2_score\n",
    "import joblib\n",
    "\n",
    "# Загрузим данные (пример)\n",
    "data = pd.read_csv('Clean_Dataset.csv')\n",
    "# Оставим только нужные признаки\n",
    "features = ['airline', 'source_city', 'destination_city', 'departure_time', 'class', 'duration', 'days_left']\n",
    "target='price'\n",
    "df=data[features + [target]]\n",
    "X = df[features]\n",
    "y = df['price']\n",
    "\n",
    "\n",
    "# Обновляем названия столбцов для X\n",
    "X.columns = X.columns.astype(str)\n",
    "\n",
    "# Преобразуем категориальные признаки в числовые с указанием категорий\n",
    "categories = [\n",
    "    sorted(df['airline'].unique()),\n",
    "    sorted(df['source_city'].unique()),\n",
    "    sorted(df['destination_city'].unique()),\n",
    "    sorted(df['departure_time'].unique()),\n",
    "    sorted(df['class'].unique())\n",
    "]\n",
    "\n",
    "encoder = OneHotEncoder(categories=categories, sparse_output=True, handle_unknown='ignore')\n",
    "encoder.fit(X[['airline', 'source_city', 'destination_city', 'departure_time', 'class']])\n",
    "\n",
    "# Применяем преобразование ко всему набору данных, включая числовые признаки\n",
    "X_encoded = encoder.transform(X[['airline', 'source_city', 'destination_city', 'departure_time', 'class']])\n",
    "X_encoded = pd.concat([pd.DataFrame(X_encoded.toarray()), X[['duration', 'days_left']].reset_index(drop=True)], axis=1)\n",
    "\n",
    "# Обновляем названия столбцов для X_encoded\n",
    "X_encoded.columns = X_encoded.columns.astype(str)\n",
    "\n",
    "X_train, X_test, y_train, y_test = train_test_split(X_encoded, y, test_size=0.2, random_state=42)\n",
    "joblib.dump(encoder, 'encoder.pkl')"
   ]
  },
  {
   "cell_type": "code",
   "execution_count": 40,
   "id": "53991347-34fd-45d9-8696-d8e9eae0e0cf",
   "metadata": {},
   "outputs": [
    {
     "data": {
      "text/html": [
       "<div>\n",
       "<style scoped>\n",
       "    .dataframe tbody tr th:only-of-type {\n",
       "        vertical-align: middle;\n",
       "    }\n",
       "\n",
       "    .dataframe tbody tr th {\n",
       "        vertical-align: top;\n",
       "    }\n",
       "\n",
       "    .dataframe thead th {\n",
       "        text-align: right;\n",
       "    }\n",
       "</style>\n",
       "<table border=\"1\" class=\"dataframe\">\n",
       "  <thead>\n",
       "    <tr style=\"text-align: right;\">\n",
       "      <th></th>\n",
       "      <th>airline</th>\n",
       "      <th>source_city</th>\n",
       "      <th>destination_city</th>\n",
       "      <th>departure_time</th>\n",
       "      <th>class</th>\n",
       "      <th>duration</th>\n",
       "      <th>days_left</th>\n",
       "      <th>price</th>\n",
       "    </tr>\n",
       "  </thead>\n",
       "  <tbody>\n",
       "    <tr>\n",
       "      <th>0</th>\n",
       "      <td>SpiceJet</td>\n",
       "      <td>Delhi</td>\n",
       "      <td>Mumbai</td>\n",
       "      <td>Evening</td>\n",
       "      <td>Economy</td>\n",
       "      <td>2.17</td>\n",
       "      <td>1</td>\n",
       "      <td>5953</td>\n",
       "    </tr>\n",
       "    <tr>\n",
       "      <th>1</th>\n",
       "      <td>SpiceJet</td>\n",
       "      <td>Delhi</td>\n",
       "      <td>Mumbai</td>\n",
       "      <td>Early_Morning</td>\n",
       "      <td>Economy</td>\n",
       "      <td>2.33</td>\n",
       "      <td>1</td>\n",
       "      <td>5953</td>\n",
       "    </tr>\n",
       "    <tr>\n",
       "      <th>2</th>\n",
       "      <td>AirAsia</td>\n",
       "      <td>Delhi</td>\n",
       "      <td>Mumbai</td>\n",
       "      <td>Early_Morning</td>\n",
       "      <td>Economy</td>\n",
       "      <td>2.17</td>\n",
       "      <td>1</td>\n",
       "      <td>5956</td>\n",
       "    </tr>\n",
       "    <tr>\n",
       "      <th>3</th>\n",
       "      <td>Vistara</td>\n",
       "      <td>Delhi</td>\n",
       "      <td>Mumbai</td>\n",
       "      <td>Morning</td>\n",
       "      <td>Economy</td>\n",
       "      <td>2.25</td>\n",
       "      <td>1</td>\n",
       "      <td>5955</td>\n",
       "    </tr>\n",
       "    <tr>\n",
       "      <th>4</th>\n",
       "      <td>Vistara</td>\n",
       "      <td>Delhi</td>\n",
       "      <td>Mumbai</td>\n",
       "      <td>Morning</td>\n",
       "      <td>Economy</td>\n",
       "      <td>2.33</td>\n",
       "      <td>1</td>\n",
       "      <td>5955</td>\n",
       "    </tr>\n",
       "  </tbody>\n",
       "</table>\n",
       "</div>"
      ],
      "text/plain": [
       "    airline source_city destination_city departure_time    class  duration  \\\n",
       "0  SpiceJet       Delhi           Mumbai        Evening  Economy      2.17   \n",
       "1  SpiceJet       Delhi           Mumbai  Early_Morning  Economy      2.33   \n",
       "2   AirAsia       Delhi           Mumbai  Early_Morning  Economy      2.17   \n",
       "3   Vistara       Delhi           Mumbai        Morning  Economy      2.25   \n",
       "4   Vistara       Delhi           Mumbai        Morning  Economy      2.33   \n",
       "\n",
       "   days_left  price  \n",
       "0          1   5953  \n",
       "1          1   5953  \n",
       "2          1   5956  \n",
       "3          1   5955  \n",
       "4          1   5955  "
      ]
     },
     "execution_count": 40,
     "metadata": {},
     "output_type": "execute_result"
    }
   ],
   "source": [
    "df.head()"
   ]
  },
  {
   "cell_type": "code",
   "execution_count": 41,
   "id": "b34d5a80-b432-4542-b52e-2d8477b15c07",
   "metadata": {},
   "outputs": [
    {
     "data": {
      "text/plain": [
       "['lr_model.pkl']"
      ]
     },
     "execution_count": 41,
     "metadata": {},
     "output_type": "execute_result"
    }
   ],
   "source": [
    "# Линейная регрессия\n",
    "lr_model = LinearRegression()\n",
    "lr_model.fit(X_train, y_train)\n",
    "lr_predictions = lr_model.predict(X_test)\n",
    "joblib.dump(lr_model, 'lr_model.pkl')\n"
   ]
  },
  {
   "cell_type": "code",
   "execution_count": 48,
   "id": "4c563d7e-191e-4ddd-a1a6-3d4f8658086d",
   "metadata": {},
   "outputs": [
    {
     "data": {
      "text/plain": [
       "['dt_model.pkl']"
      ]
     },
     "execution_count": 48,
     "metadata": {},
     "output_type": "execute_result"
    }
   ],
   "source": [
    "# дерево решений\n",
    "dt_model = DecisionTreeRegressor(max_depth=25, min_samples_split=5, min_samples_leaf=2, random_state=42)\n",
    "dt_model.fit(X_train, y_train)\n",
    "dt_predictions = dt_model.predict(X_test)\n",
    "joblib.dump(dt_model, 'dt_model.pkl')\n"
   ]
  },
  {
   "cell_type": "code",
   "execution_count": 49,
   "id": "438b7df3-452c-4eb6-ae21-4fe17374b048",
   "metadata": {},
   "outputs": [
    {
     "data": {
      "text/plain": [
       "['rf_model.pkl']"
      ]
     },
     "execution_count": 49,
     "metadata": {},
     "output_type": "execute_result"
    }
   ],
   "source": [
    "\n",
    "#случайный лес\n",
    "rf_model = RandomForestRegressor(n_estimators=100, max_depth=25, min_samples_split=5, min_samples_leaf=2, random_state=42)\n",
    "rf_model.fit(X_train, y_train)\n",
    "rf_predictions = rf_model.predict(X_test)\n",
    "joblib.dump(rf_model, 'rf_model.pkl')\n"
   ]
  },
  {
   "cell_type": "code",
   "execution_count": 50,
   "id": "87db9d52-37b8-4c2e-b859-da4251ff8465",
   "metadata": {},
   "outputs": [
    {
     "data": {
      "text/plain": [
       "['xgb_model.pkl']"
      ]
     },
     "execution_count": 50,
     "metadata": {},
     "output_type": "execute_result"
    }
   ],
   "source": [
    "# Обучение модели XGBoost \n",
    "xgb_model = XGBRegressor(n_estimators=200, learning_rate=0.05, max_depth=6, subsample=0.9, colsample_bytree=0.9,random_state=42) \n",
    "xgb_model.fit(X_train, y_train) \n",
    "xgb_predictions = xgb_model.predict(X_test) # Сохраним модель XGBoost \n",
    "joblib.dump(xgb_model, 'xgb_model.pkl') # Оценка модели XGBoost \n"
   ]
  },
  {
   "cell_type": "code",
   "execution_count": 52,
   "id": "bc86accc-18e9-427a-bb3c-0a3676085369",
   "metadata": {},
   "outputs": [
    {
     "name": "stdout",
     "output_type": "stream",
     "text": [
      "Линейная регрессия: MSE = 50328107.65746864, R^2 = 0.9023669479281436\n",
      "Дерево решений: MSE = 10378322.163952606, R^2 = 0.9798667719607511\n",
      "Случайный лес: MSE = 7688712.132690924, R^2 = 0.9850844296168341\n",
      "XGBoost: MSE = 17850612.526231863, R^2 = 0.9653710448612607\n"
     ]
    }
   ],
   "source": [
    "# Функция для оценки моделей\n",
    "def evaluate_model(predictions, y_test):\n",
    "    mse = mean_squared_error(y_test, predictions)\n",
    "    r2 = r2_score(y_test, predictions)\n",
    "    return mse, r2\n",
    "\n",
    "# Оценим модели\n",
    "lr_mse, lr_r2 = evaluate_model(lr_predictions, y_test)\n",
    "dt_mse, dt_r2 = evaluate_model(dt_predictions, y_test)\n",
    "rf_mse, rf_r2 = evaluate_model(rf_predictions, y_test)\n",
    "xgb_mse, xgb_r2 = evaluate_model(xgb_predictions, y_test)\n",
    "\n",
    "# Выведем результаты\n",
    "print(f\"Линейная регрессия: MSE = {lr_mse}, R^2 = {lr_r2}\")\n",
    "print(f\"Дерево решений: MSE = {dt_mse}, R^2 = {dt_r2}\")\n",
    "print(f\"Случайный лес: MSE = {rf_mse}, R^2 = {rf_r2}\")\n",
    "print(f\"XGBoost: MSE = {xgb_mse}, R^2 = {xgb_r2}\")\n"
   ]
  },
  {
   "cell_type": "code",
   "execution_count": 53,
   "id": "751e8756-4326-4a9c-a9b5-bdb30aa003f9",
   "metadata": {},
   "outputs": [],
   "source": [
    "df.to_csv(\"processed_flight_data_.csv\", index=False)\n"
   ]
  },
  {
   "cell_type": "code",
   "execution_count": null,
   "id": "150321a1-f148-4c23-a88a-87e19d801327",
   "metadata": {},
   "outputs": [],
   "source": []
  },
  {
   "cell_type": "code",
   "execution_count": null,
   "id": "b413ab7f-05ea-4c1b-9ab9-1da39c427ba3",
   "metadata": {},
   "outputs": [],
   "source": []
  }
 ],
 "metadata": {
  "kernelspec": {
   "display_name": "Python 3 (ipykernel)",
   "language": "python",
   "name": "python3"
  },
  "language_info": {
   "codemirror_mode": {
    "name": "ipython",
    "version": 3
   },
   "file_extension": ".py",
   "mimetype": "text/x-python",
   "name": "python",
   "nbconvert_exporter": "python",
   "pygments_lexer": "ipython3",
   "version": "3.12.4"
  }
 },
 "nbformat": 4,
 "nbformat_minor": 5
}
