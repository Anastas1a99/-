{
 "cells": [
  {
   "cell_type": "code",
   "execution_count": 72,
   "id": "ebe0d36c-7a10-481b-a33a-5492add68c60",
   "metadata": {},
   "outputs": [
    {
     "data": {
      "text/html": [
       "<div>\n",
       "<style scoped>\n",
       "    .dataframe tbody tr th:only-of-type {\n",
       "        vertical-align: middle;\n",
       "    }\n",
       "\n",
       "    .dataframe tbody tr th {\n",
       "        vertical-align: top;\n",
       "    }\n",
       "\n",
       "    .dataframe thead th {\n",
       "        text-align: right;\n",
       "    }\n",
       "</style>\n",
       "<table border=\"1\" class=\"dataframe\">\n",
       "  <thead>\n",
       "    <tr style=\"text-align: right;\">\n",
       "      <th></th>\n",
       "      <th>age</th>\n",
       "      <th>job</th>\n",
       "      <th>marital</th>\n",
       "      <th>education</th>\n",
       "      <th>balance</th>\n",
       "      <th>housing</th>\n",
       "      <th>contact</th>\n",
       "      <th>day</th>\n",
       "      <th>month</th>\n",
       "      <th>duration</th>\n",
       "      <th>campaign</th>\n",
       "      <th>pdays</th>\n",
       "      <th>previous</th>\n",
       "      <th>poutcome</th>\n",
       "      <th>y</th>\n",
       "    </tr>\n",
       "  </thead>\n",
       "  <tbody>\n",
       "    <tr>\n",
       "      <th>0</th>\n",
       "      <td>58</td>\n",
       "      <td>management</td>\n",
       "      <td>married</td>\n",
       "      <td>tertiary</td>\n",
       "      <td>2143</td>\n",
       "      <td>yes</td>\n",
       "      <td>unknown</td>\n",
       "      <td>5</td>\n",
       "      <td>may</td>\n",
       "      <td>261</td>\n",
       "      <td>1</td>\n",
       "      <td>-1</td>\n",
       "      <td>0</td>\n",
       "      <td>unknown</td>\n",
       "      <td>no</td>\n",
       "    </tr>\n",
       "    <tr>\n",
       "      <th>1</th>\n",
       "      <td>44</td>\n",
       "      <td>technician</td>\n",
       "      <td>single</td>\n",
       "      <td>secondary</td>\n",
       "      <td>29</td>\n",
       "      <td>yes</td>\n",
       "      <td>unknown</td>\n",
       "      <td>5</td>\n",
       "      <td>may</td>\n",
       "      <td>151</td>\n",
       "      <td>1</td>\n",
       "      <td>-1</td>\n",
       "      <td>0</td>\n",
       "      <td>unknown</td>\n",
       "      <td>no</td>\n",
       "    </tr>\n",
       "    <tr>\n",
       "      <th>2</th>\n",
       "      <td>33</td>\n",
       "      <td>entrepreneur</td>\n",
       "      <td>married</td>\n",
       "      <td>secondary</td>\n",
       "      <td>2</td>\n",
       "      <td>yes</td>\n",
       "      <td>unknown</td>\n",
       "      <td>5</td>\n",
       "      <td>may</td>\n",
       "      <td>76</td>\n",
       "      <td>1</td>\n",
       "      <td>-1</td>\n",
       "      <td>0</td>\n",
       "      <td>unknown</td>\n",
       "      <td>no</td>\n",
       "    </tr>\n",
       "    <tr>\n",
       "      <th>3</th>\n",
       "      <td>47</td>\n",
       "      <td>blue-collar</td>\n",
       "      <td>married</td>\n",
       "      <td>unknown</td>\n",
       "      <td>1506</td>\n",
       "      <td>yes</td>\n",
       "      <td>unknown</td>\n",
       "      <td>5</td>\n",
       "      <td>may</td>\n",
       "      <td>92</td>\n",
       "      <td>1</td>\n",
       "      <td>-1</td>\n",
       "      <td>0</td>\n",
       "      <td>unknown</td>\n",
       "      <td>no</td>\n",
       "    </tr>\n",
       "    <tr>\n",
       "      <th>4</th>\n",
       "      <td>33</td>\n",
       "      <td>unknown</td>\n",
       "      <td>single</td>\n",
       "      <td>unknown</td>\n",
       "      <td>1</td>\n",
       "      <td>no</td>\n",
       "      <td>unknown</td>\n",
       "      <td>5</td>\n",
       "      <td>may</td>\n",
       "      <td>198</td>\n",
       "      <td>1</td>\n",
       "      <td>-1</td>\n",
       "      <td>0</td>\n",
       "      <td>unknown</td>\n",
       "      <td>no</td>\n",
       "    </tr>\n",
       "  </tbody>\n",
       "</table>\n",
       "</div>"
      ],
      "text/plain": [
       "   age           job  marital  education  balance housing  contact  day month  \\\n",
       "0   58    management  married   tertiary     2143     yes  unknown    5   may   \n",
       "1   44    technician   single  secondary       29     yes  unknown    5   may   \n",
       "2   33  entrepreneur  married  secondary        2     yes  unknown    5   may   \n",
       "3   47   blue-collar  married    unknown     1506     yes  unknown    5   may   \n",
       "4   33       unknown   single    unknown        1      no  unknown    5   may   \n",
       "\n",
       "   duration  campaign  pdays  previous poutcome   y  \n",
       "0       261         1     -1         0  unknown  no  \n",
       "1       151         1     -1         0  unknown  no  \n",
       "2        76         1     -1         0  unknown  no  \n",
       "3        92         1     -1         0  unknown  no  \n",
       "4       198         1     -1         0  unknown  no  "
      ]
     },
     "execution_count": 72,
     "metadata": {},
     "output_type": "execute_result"
    }
   ],
   "source": [
    "import pandas as pd\n",
    "import numpy as np\n",
    " \n",
    "import matplotlib.pyplot as plt\n",
    "\n",
    "from sklearn.model_selection import train_test_split\n",
    "from sklearn.linear_model import LinearRegression\n",
    "from sklearn.metrics import mean_absolute_error, r2_score\n",
    "from sklearn.impute import SimpleImputer\n",
    "from sklearn.feature_selection import mutual_info_classif\n",
    "from sklearn.preprocessing import LabelEncoder, OneHotEncoder\n",
    "from sklearn.preprocessing import OneHotEncoder\n",
    "from sklearn.metrics import accuracy_score\n",
    "import pickle\n",
    "\n",
    "df = pd.read_csv('bank-full.csv', sep=';')\n",
    "columns= [\n",
    "    'age', 'job', 'marital', 'education', 'balance', 'housing', 'contact', \n",
    "    'day', 'month', 'duration', 'campaign', 'pdays', 'previous', 'poutcome', 'y'\n",
    "]\n",
    "df = df[columns]\n",
    "df.head()"
   ]
  },
  {
   "cell_type": "code",
   "execution_count": 73,
   "id": "7e21bd0d-bb8f-467a-9e23-ab03182cf12c",
   "metadata": {},
   "outputs": [
    {
     "data": {
      "text/plain": [
       "age           int64\n",
       "job          object\n",
       "marital      object\n",
       "education    object\n",
       "balance       int64\n",
       "housing      object\n",
       "contact      object\n",
       "day           int64\n",
       "month        object\n",
       "duration      int64\n",
       "campaign      int64\n",
       "pdays         int64\n",
       "previous      int64\n",
       "poutcome     object\n",
       "y            object\n",
       "dtype: object"
      ]
     },
     "execution_count": 73,
     "metadata": {},
     "output_type": "execute_result"
    }
   ],
   "source": [
    "df.isnull().sum()\n",
    "df.dtypes"
   ]
  },
  {
   "cell_type": "code",
   "execution_count": 75,
   "id": "a81df05b-2a1c-4337-9ef8-a39794fe968b",
   "metadata": {},
   "outputs": [
    {
     "name": "stdout",
     "output_type": "stream",
     "text": [
      "0    secondary\n",
      "Name: education, dtype: object\n"
     ]
    }
   ],
   "source": [
    "mode = df['education'].mode()\n",
    "\n",
    "print(mode)"
   ]
  },
  {
   "cell_type": "code",
   "execution_count": 76,
   "id": "e61f8cf4-ff34-41e6-a82d-52e51fefd123",
   "metadata": {},
   "outputs": [
    {
     "name": "stdout",
     "output_type": "stream",
     "text": [
      "   age           job  marital  education  balance housing  contact  day month  \\\n",
      "0   58    management  married   tertiary     2143     yes  unknown    5   may   \n",
      "1   44    technician   single  secondary       29     yes  unknown    5   may   \n",
      "2   33  entrepreneur  married  secondary        2     yes  unknown    5   may   \n",
      "3   47   blue-collar  married    unknown     1506     yes  unknown    5   may   \n",
      "4   33       unknown   single    unknown        1      no  unknown    5   may   \n",
      "\n",
      "   duration  campaign  pdays  previous poutcome  y  \n",
      "0       261         1     -1         0  unknown  0  \n",
      "1       151         1     -1         0  unknown  0  \n",
      "2        76         1     -1         0  unknown  0  \n",
      "3        92         1     -1         0  unknown  0  \n",
      "4       198         1     -1         0  unknown  0  \n"
     ]
    }
   ],
   "source": [
    "data = pd.read_csv('bank-full.csv', sep=';')\n",
    "\n",
    "selected_features = ['age', 'job', 'marital', 'education', 'balance', 'housing', 'contact', 'day', 'month', 'duration', 'campaign', 'pdays', 'previous', 'poutcome', 'y']\n",
    "data = data[selected_features]\n",
    "\n",
    "# Заменяем 'yes' на 1 и 'no' на 0 в столбце 'y'\n",
    "data['y'] = data['y'].map({'yes': 1, 'no': 0})\n",
    "print(data.head())"
   ]
  },
  {
   "cell_type": "code",
   "execution_count": 77,
   "id": "96f6c28b-cae2-4a82-a68f-1f7c85769207",
   "metadata": {},
   "outputs": [
    {
     "name": "stdout",
     "output_type": "stream",
     "text": [
      "Тренировочный набор: (27126, 7), (27126,)\n",
      "Валидационный набор: (9042, 7), (9042,)\n",
      "Тестовый набор: (9043, 7), (9043,)\n",
      "           Mutual Information\n",
      "job                      0.01\n",
      "marital                  0.00\n",
      "education                0.00\n",
      "housing                  0.01\n",
      "contact                  0.01\n",
      "month                    0.02\n",
      "poutcome                 0.03\n",
      "\n",
      "Переменная с наибольшей взаимной информацией: poutcome\n"
     ]
    }
   ],
   "source": [
    "label_encoder = LabelEncoder()\n",
    "for column in data.select_dtypes(include=['object']):\n",
    "    data[column] = label_encoder.fit_transform(data[column])\n",
    "\n",
    "selected_features = ['job', 'marital', 'education', 'housing', 'contact', 'month', 'poutcome']\n",
    "X = data[selected_features]\n",
    "\n",
    "y = data['y']\n",
    "\n",
    "# Разделяем данные на тренировочный, валидационный и тестовый наборы\n",
    "X_train, X_temp, y_train, y_temp = train_test_split(X, y, test_size=0.4, random_state=42) \n",
    "X_val, X_test, y_val, y_test = train_test_split(X_temp, y_temp, test_size=0.5, random_state=42)\n",
    "\n",
    "print(f\"Тренировочный набор: {X_train.shape}, {y_train.shape}\")\n",
    "print(f\"Валидационный набор: {X_val.shape}, {y_val.shape}\")\n",
    "print(f\"Тестовый набор: {X_test.shape}, {y_test.shape}\")\n",
    "\n",
    "mutual_info = mutual_info_classif(X_train, y_train, discrete_features=True)\n",
    "\n",
    "mutual_info_df = pd.DataFrame(mutual_info, index=X_train.columns, columns=['Mutual Information'])\n",
    "mutual_info_df['Mutual Information'] = mutual_info_df['Mutual Information'].round(2)\n",
    "print(mutual_info_df)\n",
    "\n",
    "# Находим переменную с наибольшей взаимной информацией\n",
    "max_mutual_info_index = mutual_info_df['Mutual Information'].idxmax()\n",
    "print(f\"\\nПеременная с наибольшей взаимной информацией: {max_mutual_info_index}\")"
   ]
  },
  {
   "cell_type": "code",
   "execution_count": 78,
   "id": "cab2fd45-82d9-48a8-970e-16ea71d6d7b7",
   "metadata": {},
   "outputs": [
    {
     "name": "stdout",
     "output_type": "stream",
     "text": [
      "Точность на валидационном наборе: 0.89\n"
     ]
    }
   ],
   "source": [
    "ohe = OneHotEncoder(handle_unknown='ignore') \n",
    "X_train = ohe.fit_transform(X_train)\n",
    "X_val = ohe.transform(X_val)\n",
    "\n",
    "model = LogisticRegression(solver='liblinear', C=1.0, max_iter=1000, random_state=42)\n",
    "model.fit(X_train, y_train)\n",
    "\n",
    "y_pred = model.predict(X_val)\n",
    "\n",
    "# Рассчитываем точность\n",
    "accuracy = accuracy_score(y_val, y_pred)\n",
    "print(f\"Точность на валидационном наборе: {accuracy:.2f}\")"
   ]
  },
  {
   "cell_type": "code",
   "execution_count": 80,
   "id": "8c4ebff2-3bdb-459b-9bbb-883d2f37e8ed",
   "metadata": {},
   "outputs": [
    {
     "name": "stdout",
     "output_type": "stream",
     "text": [
      "          Mutual Info\n",
      "duration     0.070319\n",
      "poutcome     0.033417\n",
      "month        0.026608\n",
      "pdays        0.024865\n",
      "balance      0.019635\n"
     ]
    }
   ],
   "source": [
    "label_encoder = LabelEncoder()\n",
    "for column in data.select_dtypes(include=['object']):\n",
    "    data[column] = label_encoder.fit_transform(data[column])\n",
    "\n",
    "selected_features = ['job', 'marital', 'education', 'housing', 'contact', 'month', 'poutcome', 'age', 'balance', 'previous', 'duration', 'pdays', 'campaign']\n",
    "X = data[selected_features]\n",
    "\n",
    "y = data['y']\n",
    "\n",
    "X_train, X_temp, y_train, y_temp = train_test_split(X, y, test_size=0.4, random_state=42) \n",
    "X_val, X_test, y_val, y_test = train_test_split(X_temp, y_temp, test_size=0.5, random_state=42)\n",
    "categorical_cols = X.select_dtypes(include=['object']).columns\n",
    "\n",
    "encoder = OneHotEncoder(sparse_output=False, drop='first')\n",
    "X_encoded = encoder.fit_transform(X[categorical_cols])\n",
    "\n",
    "feature_names = encoder.get_feature_names_out(categorical_cols)\n",
    "\n",
    "X_train_df = pd.DataFrame(X_encoded, columns=feature_names)\n",
    "\n",
    "numeric_cols = X.select_dtypes(include=['number']).columns\n",
    "\n",
    "X_train_df = pd.concat([X_train_df, X[numeric_cols].reset_index(drop=True)], axis=1)\n",
    "\n",
    "X_train, X_test, y_train, y_test = train_test_split(X_train_df, y, test_size=0.2, random_state=42)\n",
    "\n",
    "mutual_info = mutual_info_classif(X_train, y_train)\n",
    "\n",
    "mutual_info_df = pd.DataFrame(mutual_info, index=X_train.columns, columns=['Mutual Info']).sort_values(by='Mutual Info', ascending=False)\n",
    "\n",
    "print(mutual_info_df.head())"
   ]
  },
  {
   "cell_type": "code",
   "execution_count": 81,
   "id": "d07dc97b-0121-47af-82b5-ed72bce86e12",
   "metadata": {},
   "outputs": [
    {
     "name": "stdout",
     "output_type": "stream",
     "text": [
      "Точность для C = 0.01: 0.890\n",
      "Точность для C = 0.1: 0.891\n",
      "Точность для C = 1: 0.891\n",
      "Точность для C = 10: 0.890\n",
      "\n",
      "Наилучшая точность: 0.891 (C = 0.1)\n"
     ]
    }
   ],
   "source": [
    "C_values = [0.01, 0.1, 1, 10]\n",
    "best_accuracy = 0\n",
    "best_C = None\n",
    "\n",
    "for C in C_values:\n",
    "    model = LogisticRegression(solver='liblinear', C=C, max_iter=1000, random_state=42)\n",
    "    model.fit(X_train, y_train)\n",
    "\n",
    "    y_pred = model.predict(X_val)\n",
    "\n",
    "    accuracy = accuracy_score(y_val, y_pred)\n",
    "    print(f\"Точность для C = {C}: {accuracy:.3f}\")\n",
    "\n",
    "    if accuracy > best_accuracy:\n",
    "        best_accuracy = accuracy\n",
    "        best_C = C\n",
    "\n",
    "print(f\"\\nНаилучшая точность: {best_accuracy:.3f} (C = {best_C})\")"
   ]
  },
  {
   "cell_type": "code",
   "execution_count": null,
   "id": "22a88ed4-95c0-4569-9470-2c889b99d4cd",
   "metadata": {},
   "outputs": [],
   "source": []
  },
  {
   "cell_type": "code",
   "execution_count": null,
   "id": "5909e6c9-1e0b-49ee-af08-892eb5993b0f",
   "metadata": {},
   "outputs": [],
   "source": []
  },
  {
   "cell_type": "code",
   "execution_count": null,
   "id": "eabdd67d-178a-4df4-ad74-f865650442df",
   "metadata": {},
   "outputs": [],
   "source": []
  }
 ],
 "metadata": {
  "kernelspec": {
   "display_name": "Python 3 (ipykernel)",
   "language": "python",
   "name": "python3"
  },
  "language_info": {
   "codemirror_mode": {
    "name": "ipython",
    "version": 3
   },
   "file_extension": ".py",
   "mimetype": "text/x-python",
   "name": "python",
   "nbconvert_exporter": "python",
   "pygments_lexer": "ipython3",
   "version": "3.12.4"
  }
 },
 "nbformat": 4,
 "nbformat_minor": 5
}
