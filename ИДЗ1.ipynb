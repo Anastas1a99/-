{
 "cells": [
  {
   "cell_type": "code",
   "execution_count": 3,
   "id": "7e0d8021-4db5-41ab-981a-a932930366ad",
   "metadata": {},
   "outputs": [
    {
     "data": {
      "text/html": [
       "<div>\n",
       "<style scoped>\n",
       "    .dataframe tbody tr th:only-of-type {\n",
       "        vertical-align: middle;\n",
       "    }\n",
       "\n",
       "    .dataframe tbody tr th {\n",
       "        vertical-align: top;\n",
       "    }\n",
       "\n",
       "    .dataframe thead th {\n",
       "        text-align: right;\n",
       "    }\n",
       "</style>\n",
       "<table border=\"1\" class=\"dataframe\">\n",
       "  <thead>\n",
       "    <tr style=\"text-align: right;\">\n",
       "      <th></th>\n",
       "      <th>age</th>\n",
       "      <th>workclass</th>\n",
       "      <th>fnlwgt</th>\n",
       "      <th>education</th>\n",
       "      <th>education-num</th>\n",
       "      <th>marital-status</th>\n",
       "      <th>occupation</th>\n",
       "      <th>relationship</th>\n",
       "      <th>race</th>\n",
       "      <th>sex</th>\n",
       "      <th>capital-gain</th>\n",
       "      <th>capital-loss</th>\n",
       "      <th>hours-per-week</th>\n",
       "      <th>native-country</th>\n",
       "      <th>income</th>\n",
       "    </tr>\n",
       "  </thead>\n",
       "  <tbody>\n",
       "    <tr>\n",
       "      <th>0</th>\n",
       "      <td>39</td>\n",
       "      <td>State-gov</td>\n",
       "      <td>77516</td>\n",
       "      <td>Bachelors</td>\n",
       "      <td>13</td>\n",
       "      <td>Never-married</td>\n",
       "      <td>Adm-clerical</td>\n",
       "      <td>Not-in-family</td>\n",
       "      <td>White</td>\n",
       "      <td>Male</td>\n",
       "      <td>2174</td>\n",
       "      <td>0</td>\n",
       "      <td>40</td>\n",
       "      <td>United-States</td>\n",
       "      <td>&lt;=50K</td>\n",
       "    </tr>\n",
       "    <tr>\n",
       "      <th>1</th>\n",
       "      <td>50</td>\n",
       "      <td>Self-emp-not-inc</td>\n",
       "      <td>83311</td>\n",
       "      <td>Bachelors</td>\n",
       "      <td>13</td>\n",
       "      <td>Married-civ-spouse</td>\n",
       "      <td>Exec-managerial</td>\n",
       "      <td>Husband</td>\n",
       "      <td>White</td>\n",
       "      <td>Male</td>\n",
       "      <td>0</td>\n",
       "      <td>0</td>\n",
       "      <td>13</td>\n",
       "      <td>United-States</td>\n",
       "      <td>&lt;=50K</td>\n",
       "    </tr>\n",
       "    <tr>\n",
       "      <th>2</th>\n",
       "      <td>38</td>\n",
       "      <td>Private</td>\n",
       "      <td>215646</td>\n",
       "      <td>HS-grad</td>\n",
       "      <td>9</td>\n",
       "      <td>Divorced</td>\n",
       "      <td>Handlers-cleaners</td>\n",
       "      <td>Not-in-family</td>\n",
       "      <td>White</td>\n",
       "      <td>Male</td>\n",
       "      <td>0</td>\n",
       "      <td>0</td>\n",
       "      <td>40</td>\n",
       "      <td>United-States</td>\n",
       "      <td>&lt;=50K</td>\n",
       "    </tr>\n",
       "    <tr>\n",
       "      <th>3</th>\n",
       "      <td>53</td>\n",
       "      <td>Private</td>\n",
       "      <td>234721</td>\n",
       "      <td>11th</td>\n",
       "      <td>7</td>\n",
       "      <td>Married-civ-spouse</td>\n",
       "      <td>Handlers-cleaners</td>\n",
       "      <td>Husband</td>\n",
       "      <td>Black</td>\n",
       "      <td>Male</td>\n",
       "      <td>0</td>\n",
       "      <td>0</td>\n",
       "      <td>40</td>\n",
       "      <td>United-States</td>\n",
       "      <td>&lt;=50K</td>\n",
       "    </tr>\n",
       "    <tr>\n",
       "      <th>4</th>\n",
       "      <td>28</td>\n",
       "      <td>Private</td>\n",
       "      <td>338409</td>\n",
       "      <td>Bachelors</td>\n",
       "      <td>13</td>\n",
       "      <td>Married-civ-spouse</td>\n",
       "      <td>Prof-specialty</td>\n",
       "      <td>Wife</td>\n",
       "      <td>Black</td>\n",
       "      <td>Female</td>\n",
       "      <td>0</td>\n",
       "      <td>0</td>\n",
       "      <td>40</td>\n",
       "      <td>Cuba</td>\n",
       "      <td>&lt;=50K</td>\n",
       "    </tr>\n",
       "  </tbody>\n",
       "</table>\n",
       "</div>"
      ],
      "text/plain": [
       "   age          workclass  fnlwgt   education  education-num  \\\n",
       "0   39          State-gov   77516   Bachelors             13   \n",
       "1   50   Self-emp-not-inc   83311   Bachelors             13   \n",
       "2   38            Private  215646     HS-grad              9   \n",
       "3   53            Private  234721        11th              7   \n",
       "4   28            Private  338409   Bachelors             13   \n",
       "\n",
       "        marital-status          occupation    relationship    race      sex  \\\n",
       "0        Never-married        Adm-clerical   Not-in-family   White     Male   \n",
       "1   Married-civ-spouse     Exec-managerial         Husband   White     Male   \n",
       "2             Divorced   Handlers-cleaners   Not-in-family   White     Male   \n",
       "3   Married-civ-spouse   Handlers-cleaners         Husband   Black     Male   \n",
       "4   Married-civ-spouse      Prof-specialty            Wife   Black   Female   \n",
       "\n",
       "   capital-gain  capital-loss  hours-per-week  native-country  income  \n",
       "0          2174             0              40   United-States   <=50K  \n",
       "1             0             0              13   United-States   <=50K  \n",
       "2             0             0              40   United-States   <=50K  \n",
       "3             0             0              40   United-States   <=50K  \n",
       "4             0             0              40            Cuba   <=50K  "
      ]
     },
     "execution_count": 3,
     "metadata": {},
     "output_type": "execute_result"
    }
   ],
   "source": [
    "import pandas as pd\n",
    "df = pd.read_csv('adult.data',names=['age', 'workclass', 'fnlwgt', 'education', 'education-num', 'marital-status', 'occupation', 'relationship', 'race', 'sex', 'capital-gain', 'capital-loss', 'hours-per-week', 'native-country', 'income'])\n",
    "df.head()"
   ]
  },
  {
   "cell_type": "markdown",
   "id": "59f01fa0-4a07-4566-b749-a4fcc333e681",
   "metadata": {},
   "source": [
    "1. Число столбцов в наборе данных\n",
    "   "
   ]
  },
  {
   "cell_type": "code",
   "execution_count": 7,
   "id": "7b4781ea-8cc2-42f3-a4ae-af35d4b897f8",
   "metadata": {},
   "outputs": [
    {
     "name": "stdout",
     "output_type": "stream",
     "text": [
      "Ответ: 15\n"
     ]
    }
   ],
   "source": [
    "print('Ответ:',len(df.columns))"
   ]
  },
  {
   "cell_type": "markdown",
   "id": "75c34b1b-6275-4c5d-92aa-2346cbc2be3c",
   "metadata": {},
   "source": [
    "2. Есть ли пропуски в данных? Если есть, то в каких столбцах"
   ]
  },
  {
   "cell_type": "code",
   "execution_count": 68,
   "id": "fc6a622e-0785-4afd-9562-3639eb3d1a0a",
   "metadata": {},
   "outputs": [
    {
     "data": {
      "text/plain": [
       "age               0\n",
       "workclass         0\n",
       "fnlwgt            0\n",
       "education         0\n",
       "education-num     0\n",
       "marital-status    0\n",
       "occupation        0\n",
       "relationship      0\n",
       "race              0\n",
       "sex               0\n",
       "capital-gain      0\n",
       "capital-loss      0\n",
       "hours-per-week    0\n",
       "native-country    0\n",
       "income            0\n",
       "dtype: int64"
      ]
     },
     "execution_count": 68,
     "metadata": {},
     "output_type": "execute_result"
    }
   ],
   "source": [
    "df.isnull().sum()"
   ]
  },
  {
   "cell_type": "code",
   "execution_count": 72,
   "id": "2499ac0c-16c7-46db-b6dc-622b101aada2",
   "metadata": {},
   "outputs": [
    {
     "data": {
      "text/plain": [
       "age                  0\n",
       "workclass         1836\n",
       "fnlwgt               0\n",
       "education            0\n",
       "education-num        0\n",
       "marital-status       0\n",
       "occupation        1843\n",
       "relationship         0\n",
       "race                 0\n",
       "sex                  0\n",
       "capital-gain         0\n",
       "capital-loss         0\n",
       "hours-per-week       0\n",
       "native-country     583\n",
       "income               0\n",
       "dtype: int64"
      ]
     },
     "execution_count": 72,
     "metadata": {},
     "output_type": "execute_result"
    }
   ],
   "source": [
    "df.isin([' ?']).sum()"
   ]
  },
  {
   "cell_type": "markdown",
   "id": "cb60e066-e28b-4211-ab2a-64dbb7504c60",
   "metadata": {},
   "source": [
    "Ответ: пропуски в стобцах workclass,occupation,native-country "
   ]
  },
  {
   "cell_type": "markdown",
   "id": "e58855ab-d8c8-4350-b1cf-8083b0e78c59",
   "metadata": {},
   "source": [
    "3. Кол-во уникальных значений в столбце race"
   ]
  },
  {
   "cell_type": "code",
   "execution_count": 39,
   "id": "aa33e320-52b3-432d-9cec-b965c0b92180",
   "metadata": {},
   "outputs": [
    {
     "name": "stdout",
     "output_type": "stream",
     "text": [
      "Ответ:  5\n"
     ]
    }
   ],
   "source": [
    "print('Ответ: ',len(df['race'].unique()))"
   ]
  },
  {
   "cell_type": "markdown",
   "id": "b1c1578b-8916-4e28-8576-7efc8f4ac82d",
   "metadata": {},
   "source": [
    "4. Медиана hours-per-week"
   ]
  },
  {
   "cell_type": "code",
   "execution_count": 40,
   "id": "e0427085-1984-4a5a-a0ec-850120f11fe7",
   "metadata": {},
   "outputs": [
    {
     "name": "stdout",
     "output_type": "stream",
     "text": [
      "Ответ: 40.0\n"
     ]
    }
   ],
   "source": [
    "print('Ответ:' , df['hours-per-week']. median ())"
   ]
  },
  {
   "cell_type": "markdown",
   "id": "65dec6ce-13f8-4f08-9f61-fbf2fafbcbd9",
   "metadata": {},
   "source": [
    "5. Кого больше - женщин или мужчин с ЗП >50K?"
   ]
  },
  {
   "cell_type": "code",
   "execution_count": 41,
   "id": "0531405f-f5c5-4c26-96e8-a76333d28074",
   "metadata": {},
   "outputs": [
    {
     "name": "stdout",
     "output_type": "stream",
     "text": [
      "Ответ: Больше мужчин\n"
     ]
    }
   ],
   "source": [
    "income_50k = df['income'] == ' >50K'\n",
    "men = df[income_50k]['sex'].value_counts()[' Male']\n",
    "women = df[income_50k]['sex'].value_counts()[' Female']\n",
    "\n",
    "\n",
    "if men > women:\n",
    "    print('Ответ: Больше мужчин')\n",
    "elif women > men:\n",
    "    print('Ответ: Больше женщин')\n",
    "else:\n",
    "    print('Ответ: поровну')\n"
   ]
  },
  {
   "cell_type": "markdown",
   "id": "acfe91bb-92ec-4429-9468-4b1f598f439c",
   "metadata": {},
   "source": [
    "6. Заполните пропущенные данные в отдельных столбцах наиболее встречаемыми значениями. Как еще можно было бы заполнить пропущенные данные?"
   ]
  },
  {
   "cell_type": "code",
   "execution_count": 82,
   "id": "6838898a-0440-40c8-a9ae-745f5a5b3522",
   "metadata": {},
   "outputs": [
    {
     "data": {
      "text/plain": [
       "age               0\n",
       "workclass         0\n",
       "fnlwgt            0\n",
       "education         0\n",
       "education-num     0\n",
       "marital-status    0\n",
       "occupation        0\n",
       "relationship      0\n",
       "race              0\n",
       "sex               0\n",
       "capital-gain      0\n",
       "capital-loss      0\n",
       "hours-per-week    0\n",
       "native-country    0\n",
       "income            0\n",
       "dtype: int64"
      ]
     },
     "execution_count": 82,
     "metadata": {},
     "output_type": "execute_result"
    }
   ],
   "source": [
    "df['workclass'] = df['workclass'].replace(' ?', pd.NA)\n",
    "df['occupation'] = df['occupation'].replace(' ?', pd.NA)\n",
    "df['native-country'] = df['native-country'].replace(' ?', pd.NA)\n",
    "df.fillna({'workclass': df['workclass'].mode()[0]}, inplace=True)\n",
    "df.fillna({'occupation': df['occupation'].mode()[0]}, inplace=True)\n",
    "df.fillna({'native-country': df['native-country'].mode()[0]}, inplace=True)\n",
    "df.isnull().sum()\n",
    "\n"
   ]
  },
  {
   "cell_type": "markdown",
   "id": "10776bda-6a36-454e-b3ef-eab9a49680c2",
   "metadata": {},
   "source": [
    "помимо наиболее часто встречающегося значения, есть и другие методы, которые можно использовать:\n",
    "\n",
    "* Среднее значение (.mean()):  Идеально подходит для числовых колонок.\n",
    "* Медиана (.median()):  Устойчива к выбросам, лучше подходит, если у вас есть аномальные значения.\n",
    "* (ffill):  Заполняет пропуски предыдущим значением.\n",
    "* (bfill):  Заполняет пропуски следующим значением.\n",
    "* Константное значение:  Заполняет пропуски заданным значением.\n",
    "* Прогнозирование:  Если у вас есть временные ряды, можно использовать модели машинного обучения для прогнозирования пропущенных значений.\n",
    "\n"
   ]
  },
  {
   "cell_type": "code",
   "execution_count": null,
   "id": "b840fdab-0440-4455-9e65-711b5cd5d0d5",
   "metadata": {},
   "outputs": [],
   "source": []
  }
 ],
 "metadata": {
  "kernelspec": {
   "display_name": "Python 3 (ipykernel)",
   "language": "python",
   "name": "python3"
  },
  "language_info": {
   "codemirror_mode": {
    "name": "ipython",
    "version": 3
   },
   "file_extension": ".py",
   "mimetype": "text/x-python",
   "name": "python",
   "nbconvert_exporter": "python",
   "pygments_lexer": "ipython3",
   "version": "3.12.4"
  }
 },
 "nbformat": 4,
 "nbformat_minor": 5
}
